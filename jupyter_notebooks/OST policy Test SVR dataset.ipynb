{
 "cells": [
  {
   "cell_type": "code",
   "execution_count": 2,
   "metadata": {},
   "outputs": [],
   "source": [
    "from pathlib import Path\n",
    "import sys\n",
    "PROJ_NAME = \"optimal-stopping\"\n",
    "\n",
    "# Locate the Project directory\n",
    "curr_dir = str(Path.cwd())\n",
    "start = curr_dir.find(PROJ_NAME)\n",
    "if start < 0:\n",
    "    print(\"ERROR: Project directory not found\")\n",
    "    print(\"Make sure you have the correct project structure\")\n",
    "    print(\"and run the simulation from within the project\")\n",
    "proj_pathname = curr_dir[:(start+len(PROJ_NAME))]\n",
    "\n",
    "# Create path to the project directory\n",
    "proj_path = Path(proj_pathname)\n",
    "\n",
    "# Add the project folder to PATH\n",
    "sys.path.append(proj_pathname)"
   ]
  },
  {
   "cell_type": "code",
   "execution_count": 10,
   "metadata": {},
   "outputs": [
    {
     "name": "stdout",
     "output_type": "stream",
     "text": [
      "200\n"
     ]
    }
   ],
   "source": [
    "from bin.data_import import data_init\n",
    "from bin.data_import import import_dataset_1 as im\n",
    "from bin.plot_d1 import *\n",
    "from policies.policy import *\n",
    "from bin.result import Result\n",
    "from svr.svr_model import k_fold_cv as get_error\n",
    "from svr.svr_model import get_svr_rbf_model as get_model\n",
    "\n",
    "SIZE = 200\n",
    "# Initialising data structure\n",
    "data_init()\n",
    "sensor_dataset = im().iloc[0:SIZE,:]\n",
    "print(len(sensor_dataset))"
   ]
  },
  {
   "cell_type": "code",
   "execution_count": 11,
   "metadata": {},
   "outputs": [],
   "source": [
    "W=25\n",
    "S=\"R3\"\n",
    "theta = 0.3\n",
    "B=4\n",
    "\n",
    "def getNewX(data):\n",
    "    return data[['Temp.','Humidity']].values\n",
    "\n",
    "def getNewY(data, S):\n",
    "    return data[[S]].values\n",
    "\n"
   ]
  },
  {
   "cell_type": "code",
   "execution_count": 12,
   "metadata": {},
   "outputs": [],
   "source": [
    "\n",
    "data = sensor_dataset.iloc[0:W,:]\n",
    "\n",
    "# Reshape the temperature and humidity values\n",
    "init_X = getNewX(data)\n",
    "# Reshape the sensor values\n",
    "init_y = getNewY(data, S)\n",
    "# Build a model to be sent to the Edge Gate\n",
    "model = get_model(init_X, init_y)\n",
    "# Evaluate the model\n",
    "err = get_error(model, init_X, init_y)\n",
    "\n",
    "err_diff = []\n",
    "err_storage = [err]\n",
    "init_err = err\n",
    "init_model = model\n",
    "\n",
    "comm_count = 1\n",
    "comm = [comm_count]\n",
    "\n",
    "err_sum = err\n",
    "\n",
    "dataset_length = len(sensor_dataset)\n",
    "\n",
    "i = 1\n",
    "Vreward = 0\n",
    "Vreward_vector = []\n",
    "while (i + W) <= dataset_length:\n",
    "    # Receive a new datapoint\n",
    "    data = sensor_dataset.iloc[i:i+W,:]\n",
    "    X = getNewX(data)\n",
    "    y = getNewY(data, S)\n",
    "    # Build a new model with the newly arrived datapoint \n",
    "    # and the discarded oldest datapoint\n",
    "    new_model = get_model(X, y)\n",
    "    # Evaluate\n",
    "    new_err = get_error(new_model, X, y)\n",
    "    err_storage += [new_err]\n",
    "\n",
    "    init_model_err = get_error(init_model, X, y)\n",
    "    err_diff += [abs(init_model_err-new_err)]\n",
    "\n",
    "    err_sum += err_diff[-1]\n",
    "\n",
    "    #DECIDE if we should update or not\n",
    "    if err_sum <= theta:\n",
    "        Vreward += 1\n",
    "        Vreward_vector += [Vreward]\n",
    "    else:\n",
    "        Vreward = -B\n",
    "        Vreward_vector += [Vreward]\n",
    "        Vreward = 0\n",
    "        init_model = new_model\n",
    "        err_sum = new_err\n",
    "        \n",
    "    # Slide the window with 1\n",
    "    i += 1\n"
   ]
  },
  {
   "cell_type": "code",
   "execution_count": 13,
   "metadata": {},
   "outputs": [
    {
     "name": "stdout",
     "output_type": "stream",
     "text": [
      "[1, 2, 3, 4, 5, 6, 7, 8, 9, 10, 11, 12, 13, 14, 15, 16, 17, 18, 19, 20, 21, 22, 23, 24, 25, 26, 27, 28, 29, 30, 31, 32, 33, -4, 1, 2, 3, 4, 5, 6, 7, 8, 9, 10, 11, 12, 13, 14, 15, 16, 17, 18, 19, 20, 21, 22, 23, 24, 25, 26, 27, 28, 29, 30, 31, 32, 33, 34, 35, 36, 37, 38, 39, 40, 41, 42, 43, 44, 45, 46, 47, 48, 49, 50, 51, 52, 53, 54, 55, 56, 57, 58, 59, 60, 61, 62, 63, 64, 65, 66, 67, 68, 69, 70, 71, 72, 73, 74, 75, 76, 77, 78, 79, 80, 81, 82, 83, 84, 85, 86, 87, 88, 89, 90, 91, 92, 93, 94, 95, 96, 97, 98, 99, 100, 101, 102, 103, 104, 105, 106, 107, 108, 109, 110, 111, 112, 113, 114, 115, 116, 117, 118, 119, 120, 121, 122, 123, 124, 125, 126, 127, 128, 129, 130, 131, 132, 133, 134, 135, 136, 137, 138, 139, 140, 141]\n"
     ]
    },
    {
     "data": {
      "image/png": "[encoded data removed]",
      "text/plain": [
       "<Figure size 432x288 with 1 Axes>"
      ]
     },
     "metadata": {
      "needs_background": "light"
     },
     "output_type": "display_data"
    },
    {
     "name": "stdout",
     "output_type": "stream",
     "text": [
      "Expected value of M(essages): 2.9940119760479043\n"
     ]
    }
   ],
   "source": [
    "print(Vreward_vector)\n",
    "plt.plot(Vreward_vector)\n",
    "plt.show()\n",
    "size_Vreward = len(Vreward_vector)\n",
    "expReward = \\\n",
    "    sum([x*(Vreward_vector.count(x)/size_Vreward) for x in Vreward_vector])\n",
    "expM = SIZE/expReward\n",
    "print(\"Expected value of M(essages):\",expM)"
   ]
  },
  {
   "cell_type": "code",
   "execution_count": 14,
   "metadata": {},
   "outputs": [
    {
     "name": "stdout",
     "output_type": "stream",
     "text": [
      "shape, k 0.40814771456627613\n",
      "scale, theta 0.008224840460212173\n"
     ]
    }
   ],
   "source": [
    "from scipy.stats import gamma\n",
    "import numpy as np\n",
    "\n",
    "mean = np.mean(err_diff)\n",
    "var = np.var(err_diff)\n",
    "\n",
    "shape = mean**2/var\n",
    "scale = var/mean\n",
    "print(\"shape, k\",shape)\n",
    "print(\"scale, theta\", scale)\n",
    "\n",
    "cdf = gamma.cdf(sorted(err_diff), shape, scale=scale)\n",
    "pdf = gamma.pdf(sorted(err_diff), shape, scale=scale)"
   ]
  },
  {
   "cell_type": "code",
   "execution_count": 15,
   "metadata": {},
   "outputs": [
    {
     "data": {
      "image/png": "[encoded data removed]",
      "text/plain": [
       "<Figure size 432x288 with 1 Axes>"
      ]
     },
     "metadata": {
      "needs_background": "light"
     },
     "output_type": "display_data"
    }
   ],
   "source": [
    "import matplotlib.pyplot as plt\n",
    "\n",
    "x = sorted(gamma.rvs(shape, scale=scale, size = 100))\n",
    "plt.plot(x,gamma.cdf(x, shape, scale=scale))\n",
    "plt.show()"
   ]
  },
  {
   "cell_type": "code",
   "execution_count": 16,
   "metadata": {},
   "outputs": [
    {
     "data": {
      "image/png": "[encoded data removed]",
      "text/plain": [
       "<Figure size 432x288 with 1 Axes>"
      ]
     },
     "metadata": {
      "needs_background": "light"
     },
     "output_type": "display_data"
    }
   ],
   "source": [
    "plt.plot(x,gamma.pdf(x, shape, scale=scale))\n",
    "plt.hist(err_diff, density=True, bins=10)\n",
    "plt.show()"
   ]
  },
  {
   "cell_type": "code",
   "execution_count": null,
   "metadata": {},
   "outputs": [],
   "source": []
  }
 ],
 "metadata": {
  "kernelspec": {
   "display_name": "Python 3",
   "language": "python",
   "name": "python3"
  },
  "language_info": {
   "codemirror_mode": {
    "name": "ipython",
    "version": 3
   },
   "file_extension": ".py",
   "mimetype": "text/x-python",
   "name": "python",
   "nbconvert_exporter": "python",
   "pygments_lexer": "ipython3",
   "version": "3.6.6"
  }
 },
 "nbformat": 4,
 "nbformat_minor": 2
}
