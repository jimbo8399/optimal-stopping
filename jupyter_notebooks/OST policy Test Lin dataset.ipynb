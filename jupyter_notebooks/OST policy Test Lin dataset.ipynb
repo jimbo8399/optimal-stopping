{
 "cells": [
  {
   "cell_type": "code",
   "execution_count": 72,
   "metadata": {},
   "outputs": [],
   "source": [
    "from pathlib import Path\n",
    "import sys\n",
    "PROJ_NAME = \"optimal-stopping\"\n",
    "\n",
    "# Locate the Project directory\n",
    "curr_dir = str(Path.cwd())\n",
    "start = curr_dir.find(PROJ_NAME)\n",
    "if start < 0:\n",
    "    print(\"ERROR: Project directory not found\")\n",
    "    print(\"Make sure you have the correct project structure\")\n",
    "    print(\"and run the simulation from within the project\")\n",
    "proj_pathname = curr_dir[:(start+len(PROJ_NAME))]\n",
    "\n",
    "# Create path to the project directory\n",
    "proj_path = Path(proj_pathname)\n",
    "\n",
    "# Add the project folder to PATH\n",
    "sys.path.append(proj_pathname)"
   ]
  },
  {
   "cell_type": "code",
   "execution_count": 73,
   "metadata": {},
   "outputs": [
    {
     "name": "stdout",
     "output_type": "stream",
     "text": [
      "264\n"
     ]
    }
   ],
   "source": [
    "from bin.data_import import data_init\n",
    "from bin.data_import import import_dataset_2 as im\n",
    "from policies.policy import *\n",
    "from bin.result import Result\n",
    "from bin.plot_d2 import *\n",
    "from linreg.lin_reg_model import get_linear_regression_model as get_model\n",
    "from linreg.lin_reg_model import k_fold_cv as get_error\n",
    "\n",
    "SIZE = 100\n",
    "S=[\"pi3\"]\n",
    "# Initialising data structure\n",
    "data_init()\n",
    "sensor_dataset = im(S)[0]\n",
    "print(len(sensor_dataset))\n",
    "sensor_dataset = sensor_dataset.iloc[0:SIZE,:]"
   ]
  },
  {
   "cell_type": "code",
   "execution_count": 74,
   "metadata": {},
   "outputs": [],
   "source": [
    "W=25\n",
    "theta = 2\n",
    "B=4\n",
    "\n",
    "def getNewX(data):\n",
    "    return data.temperature.values.reshape(-1,1)\n",
    "\n",
    "def getNewY(data, S=None):\n",
    "    return data.humidity.values.reshape(-1,1)\n",
    "\n"
   ]
  },
  {
   "cell_type": "code",
   "execution_count": 75,
   "metadata": {},
   "outputs": [],
   "source": [
    "\n",
    "data = sensor_dataset.iloc[0:W,:]\n",
    "\n",
    "# Reshape the temperature and humidity values\n",
    "init_X = getNewX(data)\n",
    "# Reshape the sensor values\n",
    "init_y = getNewY(data, S)\n",
    "# Build a model to be sent to the Edge Gate\n",
    "model = get_model(init_X, init_y)\n",
    "# Evaluate the model\n",
    "err = get_error(model, init_X, init_y)\n",
    "\n",
    "err_diff = []\n",
    "err_storage = [err]\n",
    "init_err = err\n",
    "init_model = model\n",
    "\n",
    "comm_count = 1\n",
    "comm = [comm_count]\n",
    "\n",
    "err_sum = err\n",
    "\n",
    "dataset_length = len(sensor_dataset)\n",
    "\n",
    "i = 1\n",
    "Vreward = 0\n",
    "Vreward_vector = []\n",
    "while (i + W) <= dataset_length:\n",
    "    # Receive a new datapoint\n",
    "    data = sensor_dataset.iloc[i:i+W,:]\n",
    "    X = getNewX(data)\n",
    "    y = getNewY(data, S)\n",
    "    # Build a new model with the newly arrived datapoint \n",
    "    # and the discarded oldest datapoint\n",
    "    new_model = get_model(X, y)\n",
    "    # Evaluate\n",
    "    new_err = get_error(new_model, X, y)\n",
    "    err_storage += [new_err]\n",
    "\n",
    "    init_model_err = get_error(init_model, X, y)\n",
    "    err_diff += [abs(init_model_err-new_err)]\n",
    "\n",
    "    err_sum += err_diff[-1]\n",
    "\n",
    "    #DECIDE if we should update or not\n",
    "    if err_sum <= theta:\n",
    "        Vreward += 1\n",
    "        Vreward_vector += [Vreward]\n",
    "    else:\n",
    "        Vreward = -B\n",
    "        Vreward_vector += [Vreward]\n",
    "        Vreward = 0\n",
    "        init_model = new_model\n",
    "        err_sum = new_err\n",
    "        \n",
    "    # Slide the window with 1\n",
    "    i += 1\n"
   ]
  },
  {
   "cell_type": "code",
   "execution_count": 76,
   "metadata": {},
   "outputs": [
    {
     "name": "stdout",
     "output_type": "stream",
     "text": [
      "[1, 2, 3, 4, 5, 6, 7, 8, 9, 10, 11, 12, 13, 14, 15, 16, 17, 18, 19, 20, 21, -4, 1, 2, 3, 4, 5, 6, 7, 8, 9, 10, 11, 12, 13, 14, 15, 16, 17, 18, 19, 20, 21, 22, 23, 24, 25, -4, 1, 2, 3, 4, 5, 6, 7, 8, 9, 10, 11, 12, -4, 1, 2, 3, 4, 5, 6, 7, 8, -4, 1, 2, 3, 4, 5]\n"
     ]
    },
    {
     "data": {
      "image/png": "[encoded data removed]",
      "text/plain": [
       "<Figure size 432x288 with 1 Axes>"
      ]
     },
     "metadata": {
      "needs_background": "light"
     },
     "output_type": "display_data"
    },
    {
     "name": "stdout",
     "output_type": "stream",
     "text": [
      "Expected value of M(essages): 4.332755632582325\n"
     ]
    }
   ],
   "source": [
    "print(Vreward_vector)\n",
    "plt.plot(Vreward_vector)\n",
    "plt.show()\n",
    "size_Vreward = len(Vreward_vector)\n",
    "expReward = \\\n",
    "    sum([x*(Vreward_vector.count(x)/size_Vreward) for x in Vreward_vector])\n",
    "expM = SIZE/expReward\n",
    "print(\"Expected value of M(essages):\",expM)"
   ]
  },
  {
   "cell_type": "code",
   "execution_count": 77,
   "metadata": {},
   "outputs": [
    {
     "name": "stdout",
     "output_type": "stream",
     "text": [
      "shape 1.2040382652028505\n",
      "scale 0.0981466814218533\n"
     ]
    }
   ],
   "source": [
    "from scipy.stats import gamma\n",
    "import numpy as np\n",
    "\n",
    "mean = np.mean(err_diff)\n",
    "var = np.var(err_diff)\n",
    "\n",
    "shape = mean**2/var\n",
    "scale = var/mean\n",
    "print(\"shape\",shape)\n",
    "print(\"scale\", scale)\n",
    "\n",
    "cdf = gamma.cdf(sorted(err_diff), shape, scale=scale)\n",
    "pdf = gamma.pdf(sorted(err_diff), shape, scale=scale)"
   ]
  },
  {
   "cell_type": "code",
   "execution_count": 78,
   "metadata": {},
   "outputs": [
    {
     "data": {
      "image/png": "[encoded data removed]",
      "text/plain": [
       "<Figure size 432x288 with 1 Axes>"
      ]
     },
     "metadata": {
      "needs_background": "light"
     },
     "output_type": "display_data"
    }
   ],
   "source": [
    "import matplotlib.pyplot as plt\n",
    "\n",
    "x = sorted(gamma.rvs(shape, scale=scale, size = 100))\n",
    "plt.plot(x,gamma.cdf(x, shape, scale=scale))\n",
    "plt.show()"
   ]
  },
  {
   "cell_type": "code",
   "execution_count": 79,
   "metadata": {},
   "outputs": [
    {
     "data": {
      "image/png": "[encoded data removed]",
      "text/plain": [
       "<Figure size 432x288 with 1 Axes>"
      ]
     },
     "metadata": {
      "needs_background": "light"
     },
     "output_type": "display_data"
    }
   ],
   "source": [
    "plt.plot(x,gamma.pdf(x, shape, scale=scale))\n",
    "plt.hist(err_diff, density=True, bins=10)\n",
    "plt.show()"
   ]
  },
  {
   "cell_type": "code",
   "execution_count": null,
   "metadata": {},
   "outputs": [],
   "source": []
  },
  {
   "cell_type": "code",
   "execution_count": null,
   "metadata": {},
   "outputs": [],
   "source": []
  }
 ],
 "metadata": {
  "kernelspec": {
   "display_name": "Python 3",
   "language": "python",
   "name": "python3"
  },
  "language_info": {
   "codemirror_mode": {
    "name": "ipython",
    "version": 3
   },
   "file_extension": ".py",
   "mimetype": "text/x-python",
   "name": "python",
   "nbconvert_exporter": "python",
   "pygments_lexer": "ipython3",
   "version": "3.6.7"
  }
 },
 "nbformat": 4,
 "nbformat_minor": 2
}
